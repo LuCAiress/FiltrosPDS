{
 "cells": [
  {
   "cell_type": "markdown",
   "metadata": {},
   "source": [
    "# Bibliotecas"
   ]
  },
  {
   "cell_type": "code",
   "execution_count": 1,
   "metadata": {},
   "outputs": [],
   "source": [
    "import numpy as np\n",
    "from scipy.io import wavfile\n",
    "from scipy.io.wavfile import write"
   ]
  },
  {
   "cell_type": "markdown",
   "metadata": {},
   "source": [
    "# Carregar áudio"
   ]
  },
  {
   "cell_type": "code",
   "execution_count": 11,
   "metadata": {},
   "outputs": [
    {
     "name": "stdout",
     "output_type": "stream",
     "text": [
      "(1042432,)\n",
      "int16\n"
     ]
    },
    {
     "data": {
      "text/plain": [
       "44100"
      ]
     },
     "execution_count": 11,
     "metadata": {},
     "output_type": "execute_result"
    }
   ],
   "source": [
    "# Ler arquivo wav\n",
    "rate, data = wavfile.read('audios/NubiaCantaDalva.wav')\n",
    "\n",
    "print(data.shape)\n",
    "print(data.dtype)\n",
    "rate"
   ]
  },
  {
   "cell_type": "markdown",
   "metadata": {},
   "source": [
    "&#8594; Rate = Taxa de amostragem do áudio, percebe-se que o resultado é de 44100 Hz;\n",
    "\n",
    "&#8594; Data = Amplitudes do sinal amostrado.\n",
    "\n",
    "Ao realizar \"print(data.shape)\", percebe-se que retorna um valor \"(1042432,)\", ou seja, se trata de um sinal MONO. Caso fosse estéreo, teria outro componente após a vírgula, representando um array bidimensional (Lado esquerdo e lado direito)."
   ]
  },
  {
   "cell_type": "code",
   "execution_count": 3,
   "metadata": {},
   "outputs": [
    {
     "name": "stdout",
     "output_type": "stream",
     "text": [
      "-32294 31545\n"
     ]
    }
   ],
   "source": [
    "print(data.min(), data.max())"
   ]
  },
  {
   "cell_type": "markdown",
   "metadata": {},
   "source": [
    "# Normalização do áudio"
   ]
  },
  {
   "cell_type": "markdown",
   "metadata": {},
   "source": [
    "&#8594; Esta normalização é necessária para facilitar o processamento do sinal e evitar Overflow, passando o sinal de int16 para um float que varia de -1 a 1."
   ]
  },
  {
   "cell_type": "code",
   "execution_count": 4,
   "metadata": {},
   "outputs": [
    {
     "data": {
      "text/plain": [
       "array([0., 0., 0., ..., 0., 0., 0.])"
      ]
     },
     "execution_count": 4,
     "metadata": {},
     "output_type": "execute_result"
    }
   ],
   "source": [
    "data = data / np.max(np.abs(data))  # Normaliza os dados para o intervalo [-1, 1]\n",
    "data"
   ]
  },
  {
   "cell_type": "code",
   "execution_count": 5,
   "metadata": {},
   "outputs": [
    {
     "data": {
      "text/plain": [
       "array([2010.53966681 +0.j        , -149.47266855-19.22293337j,\n",
       "       -184.64522435 +9.17095819j, ..., -146.47848095-26.10877145j,\n",
       "       -184.64522435 -9.17095819j, -149.47266855+19.22293337j])"
      ]
     },
     "execution_count": 5,
     "metadata": {},
     "output_type": "execute_result"
    }
   ],
   "source": [
    "freq_data = np.fft.fft(data)\n",
    "freq_data"
   ]
  },
  {
   "cell_type": "markdown",
   "metadata": {},
   "source": [
    "\"freq_data\" é um array complexo com os componentes de amplitudes e fases das frequências do áudio. "
   ]
  },
  {
   "cell_type": "code",
   "execution_count": 6,
   "metadata": {},
   "outputs": [
    {
     "data": {
      "text/plain": [
       "array([ 0.        ,  0.04230492,  0.08460984, ..., -0.12691475,\n",
       "       -0.08460984, -0.04230492])"
      ]
     },
     "execution_count": 6,
     "metadata": {},
     "output_type": "execute_result"
    }
   ],
   "source": [
    "frequencias = np.fft.fftfreq(len(data), d=1/rate)\n",
    "frequencias"
   ]
  },
  {
   "cell_type": "markdown",
   "metadata": {},
   "source": [
    "\"frequencias\" é uma varíavel que gera as frequências do áudio que correspondem ao freq_data. Definido pelas frequências da Transformada Rápida Discreta de Fourier (DFT) de data e usando o intervalo de amostragem como o inverso da taxa de amostragem."
   ]
  },
  {
   "cell_type": "markdown",
   "metadata": {},
   "source": [
    "# Filtros"
   ]
  },
  {
   "cell_type": "code",
   "execution_count": 7,
   "metadata": {},
   "outputs": [],
   "source": [
    "# Frequências de corte\n",
    "corte_baixo = 300 # 300hz\n",
    "corte_alto = 2000 # 2Khz"
   ]
  },
  {
   "cell_type": "markdown",
   "metadata": {},
   "source": [
    "Frequências de corte definidas, uma como sendo a frequência de corte para baixas e outra para altas."
   ]
  },
  {
   "cell_type": "code",
   "execution_count": 8,
   "metadata": {},
   "outputs": [],
   "source": [
    "def filtro_passa_baixas(frequencias, corte_baixo):\n",
    "    return np.abs(frequencias) < corte_baixo\n",
    "\n",
    "def filtro_passa_altas(frequencias, corte_alto):\n",
    "    return np.abs(frequencias) > corte_alto\n",
    "\n",
    "def filtro_passa_banda(frequencias, corte_baixo, corte_alto):\n",
    "    return (np.abs(frequencias) > corte_baixo) & (np.abs(frequencias) < corte_alto)\n",
    "\n",
    "def filtro_rejeita_banda(frequencias, corte_baixo, corte_alto):\n",
    "    return (np.abs(frequencias) < corte_baixo) | (np.abs(frequencias) > corte_alto)"
   ]
  },
  {
   "cell_type": "markdown",
   "metadata": {},
   "source": [
    "__Funções__\n",
    "* Passa-baixas: Retorna todas as frequências abaixo do corte baixo;\n",
    "* Passa-altas: Retorna todas as frequências acima do corte alto;\n",
    "* Passa-banda: Retorna todas as frequências entre o corte baixo e o alto;\n",
    "* Rejeita-banda: Retorna todas as frequências que não estão entre o corte baixo e o alto."
   ]
  },
  {
   "cell_type": "code",
   "execution_count": 9,
   "metadata": {},
   "outputs": [],
   "source": [
    "passa_baixas = filtro_passa_baixas(frequencias, corte_baixo)\n",
    "passa_altas = filtro_passa_altas(frequencias, corte_alto)\n",
    "passa_banda = filtro_passa_banda(frequencias, corte_baixo, corte_alto)\n",
    "rejeita_faixa = filtro_rejeita_banda(frequencias, corte_baixo, corte_alto)\n",
    "\n",
    "passa_baixas_filtrado = np.fft.ifft(freq_data * passa_baixas).real\n",
    "passa_altas_filtrado = np.fft.ifft(freq_data * passa_altas).real\n",
    "passa_banda_filtrado = np.fft.ifft(freq_data * passa_banda).real\n",
    "rejeita_banda_filtrado = np.fft.ifft(freq_data * rejeita_faixa).real"
   ]
  },
  {
   "cell_type": "markdown",
   "metadata": {},
   "source": [
    "As funções são executadas e então, as frequências retornada dos filtros são multiplicadas com as amplitudes e fases do áudio, aceitando somente números reais resultantes da Transformada Rápida Inversa de Fourier (IFFT)."
   ]
  },
  {
   "cell_type": "code",
   "execution_count": 10,
   "metadata": {},
   "outputs": [],
   "source": [
    "wavfile.write('audios/NubiaCantaDalvaPassaBaixas.wav', rate, (passa_baixas_filtrado * 32767).astype(np.int16))\n",
    "wavfile.write('audios/NubiaCantaDalvaPassaAltas.wav', rate, (passa_altas_filtrado * 32767).astype(np.int16))\n",
    "wavfile.write('audios/NubiaCantaDalvaPassaBanda.wav', rate, (passa_banda_filtrado * 32767).astype(np.int16))\n",
    "wavfile.write('audios/NubiaCantaDalvaRejeitaBanda.wav', rate, (rejeita_banda_filtrado * 32767).astype(np.int16))"
   ]
  },
  {
   "cell_type": "markdown",
   "metadata": {},
   "source": [
    "Salva os novos áudios filtrados"
   ]
  }
 ],
 "metadata": {
  "kernelspec": {
   "display_name": "base",
   "language": "python",
   "name": "python3"
  },
  "language_info": {
   "codemirror_mode": {
    "name": "ipython",
    "version": 3
   },
   "file_extension": ".py",
   "mimetype": "text/x-python",
   "name": "python",
   "nbconvert_exporter": "python",
   "pygments_lexer": "ipython3",
   "version": "3.11.7"
  }
 },
 "nbformat": 4,
 "nbformat_minor": 2
}
